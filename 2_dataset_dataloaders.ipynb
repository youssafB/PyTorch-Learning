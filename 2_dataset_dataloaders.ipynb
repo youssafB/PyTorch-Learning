{
  "nbformat": 4,
  "nbformat_minor": 0,
  "metadata": {
    "colab": {
      "provenance": [],
      "authorship_tag": "ABX9TyPoGSfOzYDKejSLF803lnN5",
      "include_colab_link": true
    },
    "kernelspec": {
      "name": "python3",
      "display_name": "Python 3"
    },
    "language_info": {
      "name": "python"
    }
  },
  "cells": [
    {
      "cell_type": "markdown",
      "metadata": {
        "id": "view-in-github",
        "colab_type": "text"
      },
      "source": [
        "<a href=\"https://colab.research.google.com/github/youssafB/PyTorch-Learning/blob/main/2_dataset_dataloaders.ipynb\" target=\"_parent\"><img src=\"https://colab.research.google.com/assets/colab-badge.svg\" alt=\"Open In Colab\"/></a>"
      ]
    },
    {
      "cell_type": "code",
      "execution_count": null,
      "metadata": {
        "id": "v_lfgPcfW3RY"
      },
      "outputs": [],
      "source": [
        "from torch.utils.data import DataLoader"
      ]
    },
    {
      "cell_type": "code",
      "source": [
        "!git --version\n"
      ],
      "metadata": {
        "id": "Gf6rlY-Ot7f6",
        "colab": {
          "base_uri": "https://localhost:8080/"
        },
        "outputId": "e2dd87ab-b576-4ab3-d427-f871800fc770"
      },
      "execution_count": 1,
      "outputs": [
        {
          "output_type": "stream",
          "name": "stdout",
          "text": [
            "git version 2.34.1\n"
          ]
        }
      ]
    },
    {
      "cell_type": "code",
      "source": [
        "!git clone https://github.com/youssafB/PyTorch-Learning.git"
      ],
      "metadata": {
        "colab": {
          "base_uri": "https://localhost:8080/"
        },
        "id": "0P7uVl3uoSGc",
        "outputId": "e2e62f6e-3637-4071-df8f-57df41a3318d"
      },
      "execution_count": 2,
      "outputs": [
        {
          "output_type": "stream",
          "name": "stdout",
          "text": [
            "Cloning into 'PyTorch-Learning'...\n",
            "remote: Enumerating objects: 7, done.\u001b[K\n",
            "remote: Counting objects: 100% (7/7), done.\u001b[K\n",
            "remote: Compressing objects: 100% (5/5), done.\u001b[K\n",
            "remote: Total 7 (delta 0), reused 0 (delta 0), pack-reused 0 (from 0)\u001b[K\n",
            "Receiving objects: 100% (7/7), done.\n"
          ]
        }
      ]
    },
    {
      "cell_type": "code",
      "source": [
        "from google.colab import drive\n",
        "drive.mount('/content/drive')\n",
        "\n"
      ],
      "metadata": {
        "id": "dj6C33KIoqun",
        "colab": {
          "base_uri": "https://localhost:8080/"
        },
        "outputId": "bd217a4f-8447-46e2-b5ec-4f2cb42e62d3"
      },
      "execution_count": 3,
      "outputs": [
        {
          "output_type": "stream",
          "name": "stdout",
          "text": [
            "Mounted at /content/drive\n"
          ]
        }
      ]
    },
    {
      "cell_type": "code",
      "source": [
        "!git commit -m \"Added 2_dataset_dataloaders notebook to 1_Basics folder\"\n"
      ],
      "metadata": {
        "colab": {
          "base_uri": "https://localhost:8080/"
        },
        "id": "R7jhxHTYu0J7",
        "outputId": "420d2fa2-f5b5-4a16-e40c-6d5554f01f3c"
      },
      "execution_count": 6,
      "outputs": [
        {
          "output_type": "stream",
          "name": "stdout",
          "text": [
            "fatal: not a git repository (or any of the parent directories): .git\n"
          ]
        }
      ]
    },
    {
      "cell_type": "markdown",
      "source": [
        "- The **`DataLoader`** in PyTorch is designed to simplify data handling by automating:\n",
        "  - Batching\n",
        "  - Shuffling\n",
        "  - Parallel loading\n",
        "- To achieve this, it relies on the ability to access individual data samples using **indexing** (e.g., `dataset[idx]`).\n"
      ],
      "metadata": {
        "id": "W67MP5FVq7Z-"
      }
    },
    {
      "cell_type": "markdown",
      "source": [
        "**1- intutive way**"
      ],
      "metadata": {
        "id": "wOS1JA7UuLm3"
      }
    },
    {
      "cell_type": "markdown",
      "source": [
        "-**Step 1: Requirment** Embed your data in a class and define the `__getitem__` method to retrieve an individual element.\n"
      ],
      "metadata": {
        "id": "k_9efpRhrdKK"
      }
    },
    {
      "cell_type": "code",
      "source": [
        "class MyCustomDataset:\n",
        "    def __init__(self, data):\n",
        "        self.data = data\n",
        "\n",
        "    def __getitem__(self, idx):\n",
        "        return self.data[idx]\n"
      ],
      "metadata": {
        "id": "Zw1_IyMfjjhS"
      },
      "execution_count": null,
      "outputs": []
    },
    {
      "cell_type": "code",
      "source": [
        "my_dataset = MyCustomDataset([1,2,3,4,5,6])"
      ],
      "metadata": {
        "id": "V2w_kBgBj44e"
      },
      "execution_count": null,
      "outputs": []
    },
    {
      "cell_type": "code",
      "source": [
        "my_dataset[2]"
      ],
      "metadata": {
        "colab": {
          "base_uri": "https://localhost:8080/"
        },
        "id": "37x0VuqdrxnE",
        "outputId": "d800f4de-2e65-4d00-8289-f4e0f62df712"
      },
      "execution_count": null,
      "outputs": [
        {
          "output_type": "execute_result",
          "data": {
            "text/plain": [
              "3"
            ]
          },
          "metadata": {},
          "execution_count": 6
        }
      ]
    },
    {
      "cell_type": "markdown",
      "source": [
        "- By using the `__getitem__` function, you give  your custom class the propty to use `[]` to do somthing .\n",
        "- This syntax is the standard way in Python to fetch a single element.\n",
        "- It's commonly used with sequences like lists and dictionaries.\n",
        "- but You can use it however you want in your class not only to fetch individual elements  for examle return print('hello ysf:',self.data[idx]) but not a standard way to  .\n",
        "\n",
        "\n"
      ],
      "metadata": {
        "id": "YvfjQizhlVLD"
      }
    },
    {
      "cell_type": "markdown",
      "source": [
        "**Step 2** benifit form dataloder"
      ],
      "metadata": {
        "id": "-s2GA8qusTgc"
      }
    },
    {
      "cell_type": "code",
      "source": [
        "data_loader = DataLoader(my_dataset, batch_size=2)"
      ],
      "metadata": {
        "id": "5wjlvxM8kYDg"
      },
      "execution_count": null,
      "outputs": []
    },
    {
      "cell_type": "code",
      "source": [
        "\n",
        "for batch in data_loader:\n",
        "    print(batch)\n",
        "    print(batch.shape)"
      ],
      "metadata": {
        "colab": {
          "base_uri": "https://localhost:8080/"
        },
        "id": "_w369NNxjz0j",
        "outputId": "ab9ff82d-9547-48bb-d8bf-a0f13df598c6"
      },
      "execution_count": null,
      "outputs": [
        {
          "output_type": "stream",
          "name": "stdout",
          "text": [
            "tensor([1, 2])\n",
            "torch.Size([2])\n",
            "tensor([3, 4])\n",
            "torch.Size([2])\n",
            "tensor([5, 6])\n",
            "torch.Size([2])\n"
          ]
        }
      ]
    },
    {
      "cell_type": "markdown",
      "source": [
        "**2 Standard way.** To make things standardized and potentially benefit from other utilities, it’s better to inherit from an already existing class like `Dataset`, where you can inherit the `__getitem__` method and other methodes."
      ],
      "metadata": {
        "id": "ttoR-7Ics4-5"
      }
    },
    {
      "cell_type": "code",
      "source": [
        "from torch.utils.data import Dataset\n",
        "class MyCustomDataset(Dataset):\n",
        "    def __init__(self, data):\n",
        "        self.data = data\n",
        "\n",
        "    def __getitem__(self, idx):\n",
        "        return self.data[idx]\n",
        "\n",
        "    def __len__(self):\n",
        "        return len(self.data)"
      ],
      "metadata": {
        "id": "pn8O2zIZs_Eo"
      },
      "execution_count": null,
      "outputs": []
    },
    {
      "cell_type": "code",
      "source": [],
      "metadata": {
        "id": "K3PDP6LjtgSg"
      },
      "execution_count": null,
      "outputs": []
    },
    {
      "cell_type": "markdown",
      "source": [
        "3 other benfit can be done in  MyCustomDataset\n",
        "Another key advantage of using this class is the ability to define transformations. With this approach, you can apply transformations to your data on the fly, making your data handling more efficient and flexible.\n",
        "\n",
        "Transforms in PyTorch are designed to be composable:\n",
        "\n",
        "You can chain multiple transformations together using transforms.Compose.\n",
        "The same transform pipeline can be reused across multiple datasets, ensuring consistency."
      ],
      "metadata": {
        "id": "Rxx8I1akucMj"
      }
    },
    {
      "cell_type": "markdown",
      "source": [
        "** Example 1 :**"
      ],
      "metadata": {
        "id": "PHCSTmwVxqED"
      }
    },
    {
      "cell_type": "code",
      "source": [
        "from torchvision import transforms\n",
        "\n",
        "image_transforms = transforms.Compose([\n",
        "    transforms.Resize((128, 128)),\n",
        "    transforms.ToTensor(),\n",
        "    transforms.Normalize(mean=[0.5], std=[0.5])\n",
        "])\n",
        "\n",
        "class ImageDataset(Dataset):\n",
        "    def __init__(self, image_paths, transform=None):\n",
        "        self.image_paths = image_paths\n",
        "        self.transform = transform\n",
        "\n",
        "    def __getitem__(self, idx):\n",
        "        image = PIL.Image.open(self.image_paths[idx])\n",
        "        if self.transform:\n",
        "            image = self.transform(image)\n",
        "        return image\n"
      ],
      "metadata": {
        "id": "bRHXF3N1u8e2"
      },
      "execution_count": null,
      "outputs": []
    },
    {
      "cell_type": "code",
      "source": [
        "from torchvision import transforms\n",
        "\n",
        "train_transforms = transforms.Compose([\n",
        "    transforms.RandomHorizontalFlip(),\n",
        "    transforms.RandomRotation(10),\n",
        "    transforms.ToTensor()\n",
        "])\n",
        "\n",
        "train_dataset = ImageDataset(train_image_paths, transform=train_transforms)\n"
      ],
      "metadata": {
        "id": "sZfPsLqNwIhi"
      },
      "execution_count": null,
      "outputs": []
    }
  ]
}